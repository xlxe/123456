{
 "cells": [
  {
   "cell_type": "markdown",
   "metadata": {},
   "source": [
    "Professor: Apostolos Filippas\n",
    "\n",
    "Class: Web Analytics\n",
    "\n",
    "Topic: Practice Problem 2\n",
    "\n",
    "**You are not allowed to share the contents of this notebook with anyone outside this class without written permission by the professor.**\n",
    "\n",
    "# <center><font color='red'>Instructions</font></center>\n",
    "\n",
    "You will be asked to do things step by step. Please follow the guidelines and write your code in the code cells provided. \n",
    "- Feel free to comment your code as well as you think your code should be commented.\n",
    "- There are multiple correct ways to answer each question!\n",
    "\n",
    "**Question 1:** Make a dictionary with three entries:\n",
    "- an entry that is a list with the numbers 1,2,3 associated with key 100\n",
    "- an entry that is a list with the numbers 2,2,3 associated with key 200\n",
    "- an entry that is a list with the numbers 3,2,3 associated with key \"300\""
   ]
  },
  {
   "cell_type": "code",
   "execution_count": 28,
   "metadata": {},
   "outputs": [
    {
     "data": {
      "text/plain": [
       "{100: [1, 2, 3], 200: [2, 2, 3], '300': [3, 2, 3]}"
      ]
     },
     "execution_count": 28,
     "metadata": {},
     "output_type": "execute_result"
    }
   ],
   "source": [
    "a_dict={100:[1,2,3],\n",
    "          200:[2,2,3],\n",
    "          \"300\":[3,2,3]}\n",
    "a_dict"
   ]
  },
  {
   "cell_type": "markdown",
   "metadata": {},
   "source": [
    "**Question 2:** For every value of your dictionary that is a list, append the number 5 to the end of that list. Save the resulting dictionary, and print it"
   ]
  },
  {
   "cell_type": "code",
   "execution_count": 32,
   "metadata": {},
   "outputs": [
    {
     "data": {
      "text/plain": [
       "{100: [1, 2, 3, 5], 200: [2, 2, 3, 5], '300': [3, 2, 3, 5]}"
      ]
     },
     "execution_count": 32,
     "metadata": {},
     "output_type": "execute_result"
    }
   ],
   "source": [
    "a_dict[100].append(5)\n",
    "a_dict[200].append(5)\n",
    "a_dict[\"300\"].append(5)\n",
    "a_dict"
   ]
  },
  {
   "cell_type": "markdown",
   "metadata": {},
   "source": [
    "**Question 3**: Select the list containing the last 2 elements of the list associated with key 200. Print this list"
   ]
  },
  {
   "cell_type": "code",
   "execution_count": 33,
   "metadata": {},
   "outputs": [
    {
     "name": "stdout",
     "output_type": "stream",
     "text": [
      "[3, 5]\n"
     ]
    }
   ],
   "source": [
    "listq3=a_dict[200][len(a_dict[200])-2:]\n",
    "print(list)"
   ]
  },
  {
   "cell_type": "markdown",
   "metadata": {},
   "source": [
    "**Question 4**: Print all but the first and last elements of the list associated with key \"300\", as a list"
   ]
  },
  {
   "cell_type": "code",
   "execution_count": 34,
   "metadata": {},
   "outputs": [
    {
     "data": {
      "text/plain": [
       "[2, 3]"
      ]
     },
     "execution_count": 34,
     "metadata": {},
     "output_type": "execute_result"
    }
   ],
   "source": [
    "listq4=a_dict[\"300\"][1:len(a_dict[\"300\"])-1]\n",
    "listq4"
   ]
  },
  {
   "cell_type": "markdown",
   "metadata": {},
   "source": [
    "**Question 5**: Sort the list associated with key \"300\""
   ]
  },
  {
   "cell_type": "code",
   "execution_count": 38,
   "metadata": {},
   "outputs": [
    {
     "name": "stdout",
     "output_type": "stream",
     "text": [
      "[2, 3, 3, 5]\n"
     ]
    }
   ],
   "source": [
    "b=a_dict[\"300\"]\n",
    "b.sort()\n",
    "print(b)"
   ]
  },
  {
   "cell_type": "markdown",
   "metadata": {},
   "source": [
    "**Question 6**: Sort the list associated with key 100, in reverse order"
   ]
  },
  {
   "cell_type": "code",
   "execution_count": 39,
   "metadata": {},
   "outputs": [
    {
     "name": "stdout",
     "output_type": "stream",
     "text": [
      "[5, 3, 2, 1]\n"
     ]
    }
   ],
   "source": [
    "c=a_dict[100]\n",
    "c.reverse()\n",
    "print(c)"
   ]
  },
  {
   "cell_type": "markdown",
   "metadata": {},
   "source": [
    "**Question 7**: Change the second value of the list associated with key 200, to the number 3"
   ]
  },
  {
   "cell_type": "code",
   "execution_count": 40,
   "metadata": {},
   "outputs": [
    {
     "name": "stdout",
     "output_type": "stream",
     "text": [
      "[2, 3, 3, 5]\n"
     ]
    }
   ],
   "source": [
    "a_dict[200][1]=3\n",
    "print(a_dict[200])"
   ]
  },
  {
   "cell_type": "markdown",
   "metadata": {},
   "source": [
    "**Question 8**: Check whether the lists associated with key 200 and \"300\" are equal"
   ]
  },
  {
   "cell_type": "code",
   "execution_count": 41,
   "metadata": {},
   "outputs": [
    {
     "data": {
      "text/plain": [
       "True"
      ]
     },
     "execution_count": 41,
     "metadata": {},
     "output_type": "execute_result"
    }
   ],
   "source": [
    "a_dict[200]==a_dict[\"300\"]"
   ]
  },
  {
   "cell_type": "markdown",
   "metadata": {},
   "source": [
    "**Question 9:** Make a python program which checks the value of variable *month* and returns the season this month is in. The string *month* has letters that can be arbtrarily lowercase or uppercase (e.g. both \"SeptEMber\" and \"sePTEMBeR\" are admissible values of the variable *month*."
   ]
  },
  {
   "cell_type": "code",
   "execution_count": 1,
   "metadata": {},
   "outputs": [
    {
     "name": "stdout",
     "output_type": "stream",
     "text": [
      "month:may\n",
      "spring\n"
     ]
    }
   ],
   "source": [
    "month = input('month:')\n",
    "month_list=[['march','april','may'],['june','july','august'],['september','october','november'],['december','january','feburary']]\n",
    "if month.lower() in month_list[0]:\n",
    "    print('spring')\n",
    "if month.lower() in month_list[1]:\n",
    "    print('summer')\n",
    "if month.lower() in month_list[2]:\n",
    "    print('autumn')\n",
    "if month.lower() in month_list[3]:\n",
    "    print('winter')\n",
    "    "
   ]
  },
  {
   "cell_type": "code",
   "execution_count": null,
   "metadata": {},
   "outputs": [],
   "source": []
  }
 ],
 "metadata": {
  "kernelspec": {
   "display_name": "Python 3",
   "language": "python",
   "name": "python3"
  },
  "language_info": {
   "codemirror_mode": {
    "name": "ipython",
    "version": 3
   },
   "file_extension": ".py",
   "mimetype": "text/x-python",
   "name": "python",
   "nbconvert_exporter": "python",
   "pygments_lexer": "ipython3",
   "version": "3.8.8"
  }
 },
 "nbformat": 4,
 "nbformat_minor": 2
}
